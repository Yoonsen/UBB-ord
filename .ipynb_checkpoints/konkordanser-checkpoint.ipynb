{
 "cells": [
  {
   "cell_type": "markdown",
   "metadata": {},
   "source": [
    "# Undersøk korpus med metadata og konkordans\n",
    "\n",
    "Konkordanser gir oppslagt for nøkkelord i en kontekst, også kjent under akronymet [KWIC](https://en.wikipedia.org/wiki/Key_Word_in_Context). Kommandoene som benyttes er get_konk (eller nb.get_konk), og ligger klar i modulen nbtext.\n",
    "\n",
    "Gjør API-et aktivt ved å kjøre cellen under."
   ]
  },
  {
   "cell_type": "code",
   "execution_count": null,
   "metadata": {},
   "outputs": [],
   "source": [
    "import module_update"
   ]
  },
  {
   "cell_type": "code",
   "execution_count": 1,
   "metadata": {},
   "outputs": [],
   "source": [
    "import nbtext as nb\n",
    "from nbtext import get_konk, get_urnkonk, urn_from_text\n",
    "%matplotlib inline"
   ]
  },
  {
   "cell_type": "markdown",
   "metadata": {},
   "source": [
    "## Konkordanser\n",
    "\n",
    "Det minste som må spesifiseres for kommandoen *get_konk()* er et ord."
   ]
  },
  {
   "cell_type": "code",
   "execution_count": 7,
   "metadata": {},
   "outputs": [
    {
     "data": {
      "text/html": [
       "<table><tr><td><a href='http://www.nb.no/items/URN:NBN:no-nb_digibok_2014021108043' target='_'>Johnsen, John G.,Norsk hermetikkmuseum,1995</a></td><td>mer enn 100 personer i</td><td>arbeid</td><td style='text-align:left'>i fabrikken . Navnet til</td></tr>\n",
       "<tr><td><a href='http://www.nb.no/items/URN:NBN:no-nb_digibok_2014021108043' target='_'>Johnsen, John G.,Norsk hermetikkmuseum,1995</a></td><td>framstillingsmåte med hovedsaklig bare manuelt</td><td>arbeid</td><td style='text-align:left'>. Både varer og emballasje</td></tr>\n",
       "<tr><td><a href='http://www.nb.no/items/URN:NBN:no-nb_digibok_2014021108043' target='_'>Johnsen, John G.,Norsk hermetikkmuseum,1995</a></td><td>vært så intens at annet</td><td>arbeid</td><td style='text-align:left'>i samme rom ville vært</td></tr>\n",
       "<tr><td><a href='http://www.nb.no/items/URN:NBN:no-nb_digibok_2014021108043' target='_'>Johnsen, John G.,Norsk hermetikkmuseum,1995</a></td><td>kvinnene ble ofte innkalt til</td><td>arbeid</td><td style='text-align:left'>på kort varsel . Dette</td></tr>\n",
       "<tr><td><a href='http://www.nb.no/items/URN:NBN:no-nb_digibok_2013120306054' target='_'>Du Maurier, Daphne,Uten hensyn,1980</a></td><td>utsultede dyr gjør ikke godt</td><td>arbeid</td><td style='text-align:left'>, sa han dristig .</td></tr>\n",
       "<tr><td><a href='http://www.nb.no/items/URN:NBN:no-nb_digibok_2013120306054' target='_'>Du Maurier, Daphne,Uten hensyn,1980</a></td><td>det var vanskehgere a finne</td><td>arbeid</td><td style='text-align:left'>enn han hadde trodd .</td></tr>\n",
       "<tr><td><a href='http://www.nb.no/items/URN:NBN:no-nb_digibok_2013120306054' target='_'>Du Maurier, Daphne,Uten hensyn,1980</a></td><td>. Han gjorde tre manns</td><td>arbeid</td><td style='text-align:left'>, og han hadde provisjon</td></tr>\n",
       "<tr><td><a href='http://www.nb.no/items/URN:NBN:no-nb_digibok_2013120306054' target='_'>Du Maurier, Daphne,Uten hensyn,1980</a></td><td>det blir dobbelt så mye</td><td>arbeid</td><td style='text-align:left'>. Med alle de pengene</td></tr>\n",
       "<tr><td><a href='http://www.nb.no/items/URN:NBN:no-nb_digibok_2013042206093' target='_'>Marryat, Frederick,Peter Simple,1968</a></td><td>enn å utføre hele mitt</td><td>arbeid</td><td style='text-align:left'>som en gentleman , men</td></tr>\n",
       "<tr><td><a href='http://www.nb.no/items/URN:NBN:no-nb_digibok_2013042206093' target='_'>Marryat, Frederick,Peter Simple,1968</a></td><td>hatt noen annen utdannelse eller</td><td>arbeid</td><td style='text-align:left'>, har jeg spist sammen</td></tr>\n",
       "<tr><td><a href='http://www.nb.no/items/URN:NBN:no-nb_digibok_2013042206093' target='_'>Marryat, Frederick,Peter Simple,1968</a></td><td>for å finne seg et</td><td>arbeid</td><td style='text-align:left'>. Først hadde hun vært</td></tr>\n",
       "<tr><td><a href='http://www.nb.no/items/URN:NBN:no-nb_digibok_2014021307001' target='_'>Turi, Anne Lene,\"Dah mupbien [sic] bealan vuartasjieh\",2010</a></td><td>M . , 2008. Forebyggende</td><td>arbeid</td><td style='text-align:left'>i skolen . Om barn</td></tr>\n",
       "</table>"
      ],
      "text/plain": [
       "<IPython.core.display.HTML object>"
      ]
     },
     "execution_count": 7,
     "metadata": {},
     "output_type": "execute_result"
    }
   ],
   "source": [
    "get_konk('arbeid')"
   ]
  },
  {
   "cell_type": "markdown",
   "metadata": {},
   "source": [
    "Kommandoen *get_konk()* tar parametre for å begrense søket - noen er satt opp med defaultverdier. Parametrene er en måte spesifisere et korpus på, men se nedenfor for andre måter å gjøre akkurat det på."
   ]
  },
  {
   "cell_type": "code",
   "execution_count": 8,
   "metadata": {},
   "outputs": [
    {
     "data": {
      "text/html": [
       "<table><tr><td><a href='http://www.nb.no/items/URN:NBN:no-nb_digibok_2014090408093' target='_'>Hamsun, Knut,Samlede verker,2008</a></td><td>å skaffe forlegger til boken han hadde under</td><td>arbeid</td><td style='text-align:left'>.</td></tr>\n",
       "<tr><td><a href='http://www.nb.no/items/URN:NBN:no-nb_digibok_2008080500011' target='_'>Hamsun, Knut,Markens grøde,1939</a></td><td>. . Og jeg som har et stort</td><td>arbeid</td><td style='text-align:left'>liggende som skulle være et varsku til mitt</td></tr>\n",
       "<tr><td><a href='http://www.nb.no/items/URN:NBN:no-nb_digibok_2008080500011' target='_'>Hamsun, Knut,Markens grøde,1939</a></td><td>Disse sårtomtene , har han fått dem i</td><td>arbeid</td><td style='text-align:left'>eller i strid ? Han er kanskje kom</td></tr>\n",
       "<tr><td><a href='http://www.nb.no/items/URN:NBN:no-nb_digibok_2008080500011' target='_'>Hamsun, Knut,Markens grøde,1939</a></td><td>men hans . Nå ble dagene opptatt av</td><td>arbeid</td><td style='text-align:left'>. Han begynte straks å løype never i</td></tr>\n",
       "<tr><td><a href='http://www.nb.no/items/URN:NBN:no-nb_digibok_2008080500011' target='_'>Hamsun, Knut,Markens grøde,1939</a></td><td>— verden ble igjen den samme , daglig</td><td>arbeid</td><td style='text-align:left'>, mange små og store gleder , Gullhorn</td></tr>\n",
       "<tr><td><a href='http://www.nb.no/items/URN:NBN:no-nb_digibok_2008080500011' target='_'>Hamsun, Knut,Markens grøde,1939</a></td><td>. Han var også dyk * tig til</td><td>arbeid</td><td style='text-align:left'>som han engang hadde lært , og så</td></tr>\n",
       "<tr><td><a href='http://www.nb.no/items/URN:NBN:no-nb_digibok_2008080500011' target='_'>Hamsun, Knut,Markens grøde,1939</a></td><td>tilbud eller frata ham hans mark og hans</td><td>arbeid</td><td style='text-align:left'>. — Heyerdahl skrev : Mannen ansøker ærbødigst</td></tr>\n",
       "<tr><td><a href='http://www.nb.no/items/URN:NBN:no-nb_digibok_2008080500011' target='_'>Hamsun, Knut,Markens grøde,1939</a></td><td>, men som han har nedlagt et betydelig</td><td>arbeid</td><td style='text-align:left'>på , for 50 — femti — spesiedaler</td></tr>\n",
       "<tr><td><a href='http://www.nb.no/items/URN:NBN:no-nb_digibok_2008080500011' target='_'>Hamsun, Knut,Markens grøde,1939</a></td><td>følger , det er mat , søvn og</td><td>arbeid</td><td style='text-align:left'>, det er søndager med ansikts * vask</td></tr>\n",
       "<tr><td><a href='http://www.nb.no/items/URN:NBN:no-nb_digibok_2008080500011' target='_'>Hamsun, Knut,Markens grøde,1939</a></td><td>års favnved . Hans liv gikk fra ett</td><td>arbeid</td><td style='text-align:left'>til et annet etter årstidene , fra jorda</td></tr>\n",
       "<tr><td><a href='http://www.nb.no/items/URN:NBN:no-nb_digibok_2008080500011' target='_'>Hamsun, Knut,Markens grøde,1939</a></td><td>, men jeg har den tilfredsstillelse at mitt</td><td>arbeid</td><td style='text-align:left'>ikke har vært forgjeves . Det som jeg</td></tr>\n",
       "<tr><td><a href='http://www.nb.no/items/URN:NBN:no-nb_digibok_2014052308161' target='_'>Hamsun, Knut,ede verker,2007</a></td><td>ben , også økonomisk . Han tok seg</td><td>arbeid</td><td style='text-align:left'>som handelsbetjent ( hos storkjøpmannen Walsøe på Tranøy</td></tr>\n",
       "<tr><td><a href='http://www.nb.no/items/URN:NBN:no-nb_digibok_2014052308161' target='_'>Hamsun, Knut,ede verker,2007</a></td><td>om av fosterforeldre . Etter konfirmasjonen får han</td><td>arbeid</td><td style='text-align:left'>som handelsbetjent og forelsker seg i sin sjefs</td></tr>\n",
       "<tr><td><a href='http://www.nb.no/items/URN:NBN:no-nb_digibok_2014052308161' target='_'>Hamsun, Knut,ede verker,2007</a></td><td>) , og etter konfirmasjonen får de begge</td><td>arbeid</td><td style='text-align:left'>som handelsbetjenter . Videre har de begge hang</td></tr>\n",
       "<tr><td><a href='http://www.nb.no/items/URN:NBN:no-nb_digibok_2014052308161' target='_'>Hamsun, Knut,ede verker,2007</a></td><td>Det eneste litterære</td><td>arbeid</td><td style='text-align:left'>av noe format Flamsun klarte å få ferdigstilt</td></tr>\n",
       "<tr><td><a href='http://www.nb.no/items/URN:NBN:no-nb_digibok_2014090908024' target='_'>Hamsun, Marie,Bygdebarn om vinteren,1968</a></td><td>to , så var hun så smått i</td><td>arbeid</td><td style='text-align:left'>igjen , ungt kjøtt gror fort , og</td></tr>\n",
       "<tr><td><a href='http://www.nb.no/items/URN:NBN:no-nb_digibok_2014090908024' target='_'>Hamsun, Marie,Bygdebarn om vinteren,1968</a></td><td>å skaffe til veie nok ved var drygt</td><td>arbeid</td><td style='text-align:left'>. Men han ble jo rar av seg</td></tr>\n",
       "<tr><td><a href='http://www.nb.no/items/URN:NBN:no-nb_digibok_2013042505067' target='_'>Hamsun, Knut,Hamsuns beste,2006</a></td><td>år i Oslo kunne han skrive om sitt</td><td>arbeid</td><td style='text-align:left'>: « Dog maa jeg tilstaa , at</td></tr>\n",
       "<tr><td><a href='http://www.nb.no/items/URN:NBN:no-nb_digibok_2013042505067' target='_'>Hamsun, Knut,Hamsuns beste,2006</a></td><td>11922 derimot gav han tusen kroner til Nansens</td><td>arbeid</td><td style='text-align:left'>for sultende barn</td></tr>\n",
       "<tr><td><a href='http://www.nb.no/items/URN:NBN:no-nb_digibok_2013042505067' target='_'>Hamsun, Knut,Hamsuns beste,2006</a></td><td>en plan . Jeg anførte følgende : Mitt</td><td>arbeid</td><td style='text-align:left'>i Gyldendal var meget vanskelig . For å</td></tr>\n",
       "<tr><td><a href='http://www.nb.no/items/URN:NBN:no-nb_digibok_2013042505067' target='_'>Hamsun, Knut,Hamsuns beste,2006</a></td><td>Wisconcin , Minnesota , og han tar seg</td><td>arbeid</td><td style='text-align:left'>på prærien .</td></tr>\n",
       "<tr><td><a href='http://www.nb.no/items/URN:NBN:no-nb_digibok_2013060408132' target='_'>Hamsun, Knut,Artikler 1889-1928,1968</a></td><td>som lever av politikk . Jordbruk med personlig</td><td>arbeid</td><td style='text-align:left'>og personlig ærgjerrighet i dette arbeid det er</td></tr>\n",
       "<tr><td><a href='http://www.nb.no/items/URN:NBN:no-nb_digibok_2013060408132' target='_'>Hamsun, Knut,Artikler 1889-1928,1968</a></td><td>med personlig arbeid og personlig ærgjerrighet i dette</td><td>arbeid</td><td style='text-align:left'>det er det , som trenges . Møt</td></tr>\n",
       "<tr><td><a href='http://www.nb.no/items/URN:NBN:no-nb_digibok_2011031405032' target='_'>Hamsun, Knut,I Æventyrland,2000</a></td><td>som ett av flere prosjekter. Flyktningerådet startet sitt</td><td>arbeid</td><td style='text-align:left'>med opplæring i menneskerettigheter i Kaukasus i 1996.</td></tr>\n",
       "<tr><td><a href='http://www.nb.no/items/URN:NBN:no-nb_digibok_2011031405032' target='_'>Hamsun, Knut,I Æventyrland,2000</a></td><td>bare Kaukasusbogen . Men han trivdes med sitt</td><td>arbeid</td><td style='text-align:left'>. Det framkommer tydelig i et brev han</td></tr>\n",
       "<tr><td><a href='http://www.nb.no/items/URN:NBN:no-nb_digibok_2007062501012' target='_'>Hamsun, Marie,Bygdebarn om vinteren,1955</a></td><td>to , så var hun så smått i</td><td>arbeid</td><td style='text-align:left'>None</td></tr>\n",
       "<tr><td><a href='http://www.nb.no/items/URN:NBN:no-nb_digibok_2007062501012' target='_'>Hamsun, Marie,Bygdebarn om vinteren,1955</a></td><td>å skaffe til veie nok ved var drygt</td><td>arbeid</td><td style='text-align:left'>.</td></tr>\n",
       "<tr><td><a href='http://www.nb.no/items/URN:NBN:no-nb_digibok_2016060848043' target='_'>Hamsun, Marie,Bygdebarn,1942</a></td><td>i skogkanten . Det hadde vært et svært</td><td>arbeid</td><td style='text-align:left'>å bygge hyttene , for det var store</td></tr>\n",
       "<tr><td><a href='http://www.nb.no/items/URN:NBN:no-nb_digibok_2015070908103' target='_'>Hamsun, Knut,Samlede verker,2009</a></td><td>kunne gi ro og inspirasjon til det kommende</td><td>arbeid</td><td style='text-align:left'>, begynte . Sommeren 1932 « løsnet »</td></tr>\n",
       "<tr><td><a href='http://www.nb.no/items/URN:NBN:no-nb_digibok_2015070908103' target='_'>Hamsun, Knut,Samlede verker,2009</a></td><td>til Segelfoss . Her har August tatt seg</td><td>arbeid</td><td style='text-align:left'>som altmuligmann , ansatt hos GordonTidemand-sønnen til Theodor</td></tr>\n",
       "</table>"
      ],
      "text/plain": [
       "<IPython.core.display.HTML object>"
      ]
     },
     "execution_count": 8,
     "metadata": {},
     "output_type": "execute_result"
    }
   ],
   "source": [
    "get_konk('arbeid', {'size':10, 'corpus':'bok', 'before':8, 'after':8, 'author':'hamsun%'})"
   ]
  },
  {
   "cell_type": "markdown",
   "metadata": {},
   "source": [
    "### Samme konk mot aviser  (kan ta litt tid)"
   ]
  },
  {
   "cell_type": "markdown",
   "metadata": {},
   "source": [
    "Bøker og aviser deler litt på egenskaper. Foruten årstall vil for eksempel 'title' gjøre begrensing på boktitler for bøker, og avisnavn for aviser. Årstall begrenser utgivelsesår."
   ]
  },
  {
   "cell_type": "code",
   "execution_count": 9,
   "metadata": {},
   "outputs": [
    {
     "data": {
      "text/html": [
       "<table><tr><td><a href='https://www.nb.no/items/URN:NBN:no-nb_digavis_aftenposten_null_null_19550506_96_206_1' target='_'>aftenposten-19550506</a></td><td>lJ-49 \" . Efter dagens</td><td>arbeid</td><td style='text-align:left'>, gå til S og</td></tr>\n",
       "<tr><td><a href='https://www.nb.no/items/URN:NBN:no-nb_digavis_aftenposten_null_null_19550506_96_206_1' target='_'>aftenposten-19550506</a></td><td>form . still , som</td><td>arbeid</td><td style='text-align:left'>, formann på verk- sted</td></tr>\n",
       "<tr><td><a href='https://www.nb.no/items/URN:NBN:no-nb_digavis_aftenposten_null_null_19550506_96_206_1' target='_'>aftenposten-19550506</a></td><td>nelse , erfaring i sosialt</td><td>arbeid</td><td style='text-align:left'>og interesse for og innsikt</td></tr>\n",
       "<tr><td><a href='https://www.nb.no/items/URN:NBN:no-nb_digavis_aftenposten_null_null_19550506_96_206_1' target='_'>aftenposten-19550506</a></td><td>regne med å få varig</td><td>arbeid</td><td style='text-align:left'>. Lonn etler regulativet for</td></tr>\n",
       "<tr><td><a href='https://www.nb.no/items/URN:NBN:no-nb_digavis_aftenposten_null_null_19550506_96_206_1' target='_'>aftenposten-19550506</a></td><td>avdelingen . Kjennskap til lonnings-</td><td>arbeid</td><td style='text-align:left'>ønskelig . I , onn</td></tr>\n",
       "<tr><td><a href='https://www.nb.no/items/URN:NBN:no-nb_digavis_aftenposten_null_null_19520103_93_3_1' target='_'>aftenposten-19520103</a></td><td>VI har 1000 flere 1</td><td>arbeid</td><td style='text-align:left'>i ftr . Men det</td></tr>\n",
       "<tr><td><a href='https://www.nb.no/items/URN:NBN:no-nb_digavis_aftenposten_null_null_19520103_93_3_1' target='_'>aftenposten-19520103</a></td><td>At redningsmannskapet utforte et førsteklasses</td><td>arbeid</td><td style='text-align:left'>, kan det ikke være</td></tr>\n",
       "<tr><td><a href='https://www.nb.no/items/URN:NBN:no-nb_digavis_aftenposten_null_null_19520103_93_3_1' target='_'>aftenposten-19520103</a></td><td>kjærlighet for Hode Kors '</td><td>arbeid</td><td style='text-align:left'>i Norge er vel kjent</td></tr>\n",
       "<tr><td><a href='https://www.nb.no/items/URN:NBN:no-nb_digavis_aftenposten_null_null_19520103_93_3_1' target='_'>aftenposten-19520103</a></td><td>. Den skildrer det mangesidige</td><td>arbeid</td><td style='text-align:left'>ombord på skipet i storm</td></tr>\n",
       "<tr><td><a href='https://www.nb.no/items/URN:NBN:no-nb_digavis_aftenposten_null_null_19520103_93_3_1' target='_'>aftenposten-19520103</a></td><td>populære romaner — 48 timers</td><td>arbeid</td><td style='text-align:left'>, 20.000 franc firtjsneste for</td></tr>\n",
       "<tr><td><a href='https://www.nb.no/items/URN:NBN:no-nb_digavis_aftenposten_olympiaposten_null_19520214_0_1_1' target='_'>aftenposten-19520214</a></td><td>så er det det fantastiske</td><td>arbeid</td><td style='text-align:left'>som er utført her på</td></tr>\n",
       "<tr><td><a href='https://www.nb.no/items/URN:NBN:no-nb_digavis_aftenposten_olympiaposten_null_19520214_0_1_1' target='_'>aftenposten-19520214</a></td><td>: e skiene i sitt</td><td>arbeid</td><td style='text-align:left'>for føden . Det var</td></tr>\n",
       "<tr><td><a href='https://www.nb.no/items/URN:NBN:no-nb_digavis_aftenposten_olympiaposten_null_19520214_0_1_1' target='_'>aftenposten-19520214</a></td><td>daglig være å finne i</td><td>arbeid</td><td style='text-align:left'>, og selve det tekniske</td></tr>\n",
       "<tr><td><a href='https://www.nb.no/items/URN:NBN:no-nb_digavis_aftenposten_olympiaposten_null_19520214_0_1_1' target='_'>aftenposten-19520214</a></td><td>i det , vet hvilket</td><td>arbeid</td><td style='text-align:left'>som ligger bak en olympiade</td></tr>\n",
       "<tr><td><a href='https://www.nb.no/items/URN:NBN:no-nb_digavis_aftenposten_olympiaposten_null_19520214_0_1_1' target='_'>aftenposten-19520214</a></td><td>til Italia for å søke</td><td>arbeid</td><td style='text-align:left'>. — Men hvis det</td></tr>\n",
       "</table>"
      ],
      "text/plain": [
       "<IPython.core.display.HTML object>"
      ]
     },
     "execution_count": 9,
     "metadata": {},
     "output_type": "execute_result"
    }
   ],
   "source": [
    "get_konk('arbeid', {'size':5, 'title':'aftenposten','corpus':'avis', 'yearfrom':1950, 'yearto':1955})"
   ]
  },
  {
   "cell_type": "markdown",
   "metadata": {},
   "source": [
    "## Bygg et korpus av bøker\n",
    "\n",
    "Får å bygge et korpus av bøker (aviser er i kjømda) brukes kommandoen *get_urn()* med nesten de samme parametrene som for *get_konk()*.\n",
    "\n",
    "Man kan også finne URN-er i bokhylla, eller lage en liste med URN-er i en tekstfil og bruke kommandoen *urn_from_text()*. Se nedenfor."
   ]
  },
  {
   "cell_type": "markdown",
   "metadata": {},
   "source": [
    "#### get_urn()\n",
    "\n",
    "Kommandoen *get_urn()* gir et tilfeldig utvalg bøker innenfor spesifikasjonene.\n",
    "Aktiver cellen under et par ganger for å se effekten."
   ]
  },
  {
   "cell_type": "code",
   "execution_count": null,
   "metadata": {},
   "outputs": [],
   "source": [
    "nb.get_urn()"
   ]
  },
  {
   "cell_type": "markdown",
   "metadata": {},
   "source": [
    "### Med kriterier\n",
    "\n",
    "Vanligvis vil vi begrense korpuset til et helt spesifikt sett av bøker. Kriteriene er de vanlige som forfatter, tittel og år, i tillegg kommer kjønn (gender), tema (subject) og Dewey (ddk).\n",
    "\n",
    "Her settes dataene opp på formen\n",
    "\n",
    "    navn = definisjon\n",
    "    navn\n",
    "\n",
    "Første linje definerer navnet, andre viser innholdet. Husk å endre *navn* når cellene kopieres!"
   ]
  },
  {
   "cell_type": "code",
   "execution_count": null,
   "metadata": {},
   "outputs": [],
   "source": [
    "krig = nb.get_urn({'gender':'f', 'subject':'krig', 'ddk':'9%', 'year':1950, 'next':50, 'limit':30})\n",
    "krig"
   ]
  },
  {
   "cell_type": "code",
   "execution_count": null,
   "metadata": {},
   "outputs": [],
   "source": [
    "finnmark = nb.get_urn({'gender':'%', 'subject':'finnmark', 'lang':'nob', 'year':1950, 'next':50,'limit':5})\n",
    "finnmark"
   ]
  },
  {
   "cell_type": "code",
   "execution_count": null,
   "metadata": {},
   "outputs": [],
   "source": [
    "trønder = nb.get_urn({'gender':'f', 'subject':'trondheim', 'ddk':'9%', 'year':1950, 'next':50,'limit':30})\n",
    "trønder"
   ]
  },
  {
   "cell_type": "markdown",
   "metadata": {},
   "source": [
    "## Konkordanser med URNer\n",
    "\n",
    "Kommandoen er *get_urnkonk()* som bruker URNer i stedet for metadata."
   ]
  },
  {
   "cell_type": "code",
   "execution_count": null,
   "metadata": {},
   "outputs": [],
   "source": [
    "get_urnkonk('soldater', {'urns':krig, 'before':8, 'after':8, 'size':14}, html=True)"
   ]
  },
  {
   "cell_type": "markdown",
   "metadata": {},
   "source": [
    "## URNer fra Bokhylla\n",
    "\n",
    "Gåt til http://nb.no/search og søk etter bøker. I søkefeltet legger du til ordet 'debugon' - da kommer resultatene med URN-er. Kopier hele siden (f.eks. med ctrl-a) og lim det inn i cellen under mellom de triple hermetegnene.\n",
    "\n",
    "Etter at teksten (det blir gjerne en hel del) er limt inn og cellen er aktivert, vil URNene ligge i variabelen bokhylla_urn, som så kan brukes sammen med *get_urnkonk()*. \n",
    "\n",
    "Har du noen URNer liggende i en Word-fil eller lignende, kan det også limes inn."
   ]
  },
  {
   "cell_type": "code",
   "execution_count": null,
   "metadata": {},
   "outputs": [],
   "source": [
    "bokhylla_urn = \"\"\"  \"\"\"\n",
    "bokhylla_urn = urn_from_text(bokhylla_urn)\n",
    "bokhylla_urn"
   ]
  },
  {
   "cell_type": "code",
   "execution_count": null,
   "metadata": {},
   "outputs": [],
   "source": [
    "get_urnkonk('Ask',{\n",
    "    'urns':bokhylla_urn\n",
    "})"
   ]
  },
  {
   "cell_type": "code",
   "execution_count": null,
   "metadata": {},
   "outputs": [],
   "source": []
  }
 ],
 "metadata": {
  "hide_input": false,
  "kernelspec": {
   "display_name": "Python 3",
   "language": "python",
   "name": "python3"
  },
  "language_info": {
   "codemirror_mode": {
    "name": "ipython",
    "version": 3
   },
   "file_extension": ".py",
   "mimetype": "text/x-python",
   "name": "python",
   "nbconvert_exporter": "python",
   "pygments_lexer": "ipython3",
   "version": "3.6.5"
  }
 },
 "nbformat": 4,
 "nbformat_minor": 2
}
